{
 "cells": [
  {
   "cell_type": "markdown",
   "id": "23c9f965",
   "metadata": {},
   "source": [
    "Libraries"
   ]
  },
  {
   "cell_type": "code",
   "execution_count": 120,
   "id": "9cb4a037",
   "metadata": {},
   "outputs": [],
   "source": [
    "import pandas as pd\n",
    "import numpy as np\n",
    "import seaborn as sns"
   ]
  },
  {
   "cell_type": "markdown",
   "id": "dc8f82b2",
   "metadata": {},
   "source": [
    "Import Data"
   ]
  },
  {
   "cell_type": "code",
   "execution_count": 121,
   "id": "6e5ab930",
   "metadata": {},
   "outputs": [],
   "source": [
    "data = r'conversion_paths.csv'\n"
   ]
  },
  {
   "cell_type": "code",
   "execution_count": 122,
   "id": "cff725e3",
   "metadata": {},
   "outputs": [
    {
     "data": {
      "text/html": [
       "<div>\n",
       "<style scoped>\n",
       "    .dataframe tbody tr th:only-of-type {\n",
       "        vertical-align: middle;\n",
       "    }\n",
       "\n",
       "    .dataframe tbody tr th {\n",
       "        vertical-align: top;\n",
       "    }\n",
       "\n",
       "    .dataframe thead th {\n",
       "        text-align: right;\n",
       "    }\n",
       "</style>\n",
       "<table border=\"1\" class=\"dataframe\">\n",
       "  <thead>\n",
       "    <tr style=\"text-align: right;\">\n",
       "      <th></th>\n",
       "      <th>user_pseudo_id</th>\n",
       "      <th>medium_path</th>\n",
       "      <th>conversion_flag</th>\n",
       "      <th>first_touchpoint</th>\n",
       "      <th>conversion_timestamp</th>\n",
       "    </tr>\n",
       "  </thead>\n",
       "  <tbody>\n",
       "    <tr>\n",
       "      <th>0</th>\n",
       "      <td>flN8vT0gmTR1v8Ixommd1+u8s4ZvO8No7p7wl0X1v6Y+4z...</td>\n",
       "      <td>NaN</td>\n",
       "      <td>0</td>\n",
       "      <td>2022-12-28 00:00:01.914383 UTC</td>\n",
       "      <td>NaN</td>\n",
       "    </tr>\n",
       "    <tr>\n",
       "      <th>1</th>\n",
       "      <td>rgJvzjwn131LAGM5p0MZLCniNp8xX9VnGk861Dgu1wXNAA...</td>\n",
       "      <td>NaN</td>\n",
       "      <td>0</td>\n",
       "      <td>2022-12-28 00:00:04.792183 UTC</td>\n",
       "      <td>NaN</td>\n",
       "    </tr>\n",
       "    <tr>\n",
       "      <th>2</th>\n",
       "      <td>+JIUpNSpBdH11qifFKE/DwVZ5jozE6X2jJULmP3SZ0APUl...</td>\n",
       "      <td>NaN</td>\n",
       "      <td>0</td>\n",
       "      <td>2022-12-28 00:00:33.063 UTC</td>\n",
       "      <td>NaN</td>\n",
       "    </tr>\n",
       "    <tr>\n",
       "      <th>3</th>\n",
       "      <td>xO4dP3GBXDpOxHNwFIDCBnMKI1cBhsdZH+Eru7eyEoc0o8...</td>\n",
       "      <td>NaN</td>\n",
       "      <td>1</td>\n",
       "      <td>2022-12-28 00:00:52.439504 UTC</td>\n",
       "      <td>2023-01-23 14:16:55.060907 UTC</td>\n",
       "    </tr>\n",
       "    <tr>\n",
       "      <th>4</th>\n",
       "      <td>nP78ikNKi2iu1IJUO+LWIPcoByh3ZWFvlIzIl174i1jCuK...</td>\n",
       "      <td>paidsocial</td>\n",
       "      <td>0</td>\n",
       "      <td>2022-12-28 00:00:52.722434 UTC</td>\n",
       "      <td>NaN</td>\n",
       "    </tr>\n",
       "  </tbody>\n",
       "</table>\n",
       "</div>"
      ],
      "text/plain": [
       "                                      user_pseudo_id medium_path  \\\n",
       "0  flN8vT0gmTR1v8Ixommd1+u8s4ZvO8No7p7wl0X1v6Y+4z...         NaN   \n",
       "1  rgJvzjwn131LAGM5p0MZLCniNp8xX9VnGk861Dgu1wXNAA...         NaN   \n",
       "2  +JIUpNSpBdH11qifFKE/DwVZ5jozE6X2jJULmP3SZ0APUl...         NaN   \n",
       "3  xO4dP3GBXDpOxHNwFIDCBnMKI1cBhsdZH+Eru7eyEoc0o8...         NaN   \n",
       "4  nP78ikNKi2iu1IJUO+LWIPcoByh3ZWFvlIzIl174i1jCuK...  paidsocial   \n",
       "\n",
       "   conversion_flag                first_touchpoint  \\\n",
       "0                0  2022-12-28 00:00:01.914383 UTC   \n",
       "1                0  2022-12-28 00:00:04.792183 UTC   \n",
       "2                0     2022-12-28 00:00:33.063 UTC   \n",
       "3                1  2022-12-28 00:00:52.439504 UTC   \n",
       "4                0  2022-12-28 00:00:52.722434 UTC   \n",
       "\n",
       "             conversion_timestamp  \n",
       "0                             NaN  \n",
       "1                             NaN  \n",
       "2                             NaN  \n",
       "3  2023-01-23 14:16:55.060907 UTC  \n",
       "4                             NaN  "
      ]
     },
     "execution_count": 122,
     "metadata": {},
     "output_type": "execute_result"
    }
   ],
   "source": [
    "cp = pd.read_csv(data)\n",
    "\n",
    "cp.head()"
   ]
  },
  {
   "cell_type": "code",
   "execution_count": 123,
   "id": "f46f042b",
   "metadata": {},
   "outputs": [
    {
     "data": {
      "text/plain": [
       "(173982, 5)"
      ]
     },
     "execution_count": 123,
     "metadata": {},
     "output_type": "execute_result"
    }
   ],
   "source": [
    "cp.shape"
   ]
  },
  {
   "cell_type": "code",
   "execution_count": 124,
   "id": "a1b6ceee",
   "metadata": {},
   "outputs": [
    {
     "name": "stdout",
     "output_type": "stream",
     "text": [
      "<class 'pandas.core.frame.DataFrame'>\n",
      "RangeIndex: 173982 entries, 0 to 173981\n",
      "Data columns (total 5 columns):\n",
      " #   Column                Non-Null Count   Dtype \n",
      "---  ------                --------------   ----- \n",
      " 0   user_pseudo_id        173982 non-null  object\n",
      " 1   medium_path           71009 non-null   object\n",
      " 2   conversion_flag       173982 non-null  int64 \n",
      " 3   first_touchpoint      173982 non-null  object\n",
      " 4   conversion_timestamp  5475 non-null    object\n",
      "dtypes: int64(1), object(4)\n",
      "memory usage: 6.6+ MB\n"
     ]
    }
   ],
   "source": [
    "cp.info()"
   ]
  },
  {
   "cell_type": "code",
   "execution_count": 125,
   "id": "c19ac938",
   "metadata": {},
   "outputs": [
    {
     "data": {
      "image/png": "[encoded data removed]",
      "text/plain": [
       "<Figure size 640x480 with 1 Axes>"
      ]
     },
     "metadata": {},
     "output_type": "display_data"
    }
   ],
   "source": [
    "ax = sns.countplot(data = cp, x=\"conversion_flag\")"
   ]
  },
  {
   "cell_type": "code",
   "execution_count": 126,
   "id": "148dcb7b",
   "metadata": {},
   "outputs": [
    {
     "ename": "SyntaxError",
     "evalue": "invalid syntax (927945543.py, line 1)",
     "output_type": "error",
     "traceback": [
      "\u001b[0;36m  Cell \u001b[0;32mIn[126], line 1\u001b[0;36m\u001b[0m\n\u001b[0;31m    how long takes from first visit to conversion\u001b[0m\n\u001b[0m        ^\u001b[0m\n\u001b[0;31mSyntaxError\u001b[0m\u001b[0;31m:\u001b[0m invalid syntax\n"
     ]
    }
   ],
   "source": [
    "how long takes from first visit to conversion"
   ]
  },
  {
   "cell_type": "code",
   "execution_count": 127,
   "id": "5d158d67",
   "metadata": {},
   "outputs": [],
   "source": [
    "# Filter out rows with null medium_path\n",
    "data_filtered = cp[cp['medium_path'].notnull()]"
   ]
  },
  {
   "cell_type": "code",
   "execution_count": 128,
   "id": "cb5bde0a",
   "metadata": {},
   "outputs": [
    {
     "data": {
      "text/html": [
       "<div>\n",
       "<style scoped>\n",
       "    .dataframe tbody tr th:only-of-type {\n",
       "        vertical-align: middle;\n",
       "    }\n",
       "\n",
       "    .dataframe tbody tr th {\n",
       "        vertical-align: top;\n",
       "    }\n",
       "\n",
       "    .dataframe thead th {\n",
       "        text-align: right;\n",
       "    }\n",
       "</style>\n",
       "<table border=\"1\" class=\"dataframe\">\n",
       "  <thead>\n",
       "    <tr style=\"text-align: right;\">\n",
       "      <th></th>\n",
       "      <th>user_pseudo_id</th>\n",
       "      <th>medium_path</th>\n",
       "      <th>conversion_flag</th>\n",
       "      <th>first_touchpoint</th>\n",
       "      <th>conversion_timestamp</th>\n",
       "    </tr>\n",
       "  </thead>\n",
       "  <tbody>\n",
       "    <tr>\n",
       "      <th>4</th>\n",
       "      <td>nP78ikNKi2iu1IJUO+LWIPcoByh3ZWFvlIzIl174i1jCuK...</td>\n",
       "      <td>paidsocial</td>\n",
       "      <td>0</td>\n",
       "      <td>2022-12-28 00:00:52.722434 UTC</td>\n",
       "      <td>NaN</td>\n",
       "    </tr>\n",
       "    <tr>\n",
       "      <th>5</th>\n",
       "      <td>Kkx/yH2k8X5rWdx+wG7DPuxpEyCsvSNwDqr4BzWGpxQw38...</td>\n",
       "      <td>cpc</td>\n",
       "      <td>0</td>\n",
       "      <td>2022-12-28 00:01:01.875587 UTC</td>\n",
       "      <td>NaN</td>\n",
       "    </tr>\n",
       "    <tr>\n",
       "      <th>6</th>\n",
       "      <td>brAeKj/gaKj8RkzQBIJfe/5XDKShTLwOcTh6yXQink4Kuo...</td>\n",
       "      <td>organic</td>\n",
       "      <td>0</td>\n",
       "      <td>2022-12-28 00:01:15.005975 UTC</td>\n",
       "      <td>NaN</td>\n",
       "    </tr>\n",
       "    <tr>\n",
       "      <th>9</th>\n",
       "      <td>4i0jYrhlk2CNR94hRIat8WPFLkU8dRdcPgKA1oDlwsWbUe...</td>\n",
       "      <td>cpc</td>\n",
       "      <td>0</td>\n",
       "      <td>2022-12-28 00:02:08.431349 UTC</td>\n",
       "      <td>NaN</td>\n",
       "    </tr>\n",
       "    <tr>\n",
       "      <th>10</th>\n",
       "      <td>JDClr9MBvuQkNi/PeCvCFScJ0NL/3qIlq0ZWVYzoGSbsNC...</td>\n",
       "      <td>paidsocial</td>\n",
       "      <td>0</td>\n",
       "      <td>2022-12-28 00:02:24.791342 UTC</td>\n",
       "      <td>NaN</td>\n",
       "    </tr>\n",
       "  </tbody>\n",
       "</table>\n",
       "</div>"
      ],
      "text/plain": [
       "                                       user_pseudo_id medium_path  \\\n",
       "4   nP78ikNKi2iu1IJUO+LWIPcoByh3ZWFvlIzIl174i1jCuK...  paidsocial   \n",
       "5   Kkx/yH2k8X5rWdx+wG7DPuxpEyCsvSNwDqr4BzWGpxQw38...         cpc   \n",
       "6   brAeKj/gaKj8RkzQBIJfe/5XDKShTLwOcTh6yXQink4Kuo...     organic   \n",
       "9   4i0jYrhlk2CNR94hRIat8WPFLkU8dRdcPgKA1oDlwsWbUe...         cpc   \n",
       "10  JDClr9MBvuQkNi/PeCvCFScJ0NL/3qIlq0ZWVYzoGSbsNC...  paidsocial   \n",
       "\n",
       "    conversion_flag                first_touchpoint conversion_timestamp  \n",
       "4                 0  2022-12-28 00:00:52.722434 UTC                  NaN  \n",
       "5                 0  2022-12-28 00:01:01.875587 UTC                  NaN  \n",
       "6                 0  2022-12-28 00:01:15.005975 UTC                  NaN  \n",
       "9                 0  2022-12-28 00:02:08.431349 UTC                  NaN  \n",
       "10                0  2022-12-28 00:02:24.791342 UTC                  NaN  "
      ]
     },
     "execution_count": 128,
     "metadata": {},
     "output_type": "execute_result"
    }
   ],
   "source": [
    "data_filtered.head()"
   ]
  },
  {
   "cell_type": "code",
   "execution_count": 129,
   "id": "b2c770e3",
   "metadata": {},
   "outputs": [
    {
     "data": {
      "text/plain": [
       "(71009, 5)"
      ]
     },
     "execution_count": 129,
     "metadata": {},
     "output_type": "execute_result"
    }
   ],
   "source": [
    "data_filtered.shape"
   ]
  },
  {
   "cell_type": "code",
   "execution_count": 130,
   "id": "ca88e7ef",
   "metadata": {},
   "outputs": [],
   "source": [
    "# Filter converted users from the filtered dataset\n",
    "#converted_users = data_filtered[data_filtered['conversion_flag'] == 1]"
   ]
  },
  {
   "cell_type": "code",
   "execution_count": 131,
   "id": "171b8936",
   "metadata": {},
   "outputs": [],
   "source": [
    "#converted_users.head()"
   ]
  },
  {
   "cell_type": "code",
   "execution_count": 132,
   "id": "7e4e82be",
   "metadata": {},
   "outputs": [],
   "source": [
    "#converted_users.shape"
   ]
  },
  {
   "cell_type": "code",
   "execution_count": 133,
   "id": "a94616b0",
   "metadata": {},
   "outputs": [],
   "source": [
    "# Function to split and expand medium paths\n",
    "def expand_medium_path(path):\n",
    "    if pd.notnull(path):\n",
    "        steps = path.split(',')\n",
    "        return pd.Series(steps)\n",
    "    else:\n",
    "        return pd.Series([None])\n",
    "\n",
    "# Apply the function to the medium_path column\n",
    "expanded_paths = data_filtered['medium_path'].apply(expand_medium_path)"
   ]
  },
  {
   "cell_type": "code",
   "execution_count": 134,
   "id": "2d792f5e",
   "metadata": {},
   "outputs": [
    {
     "data": {
      "text/html": [
       "<div>\n",
       "<style scoped>\n",
       "    .dataframe tbody tr th:only-of-type {\n",
       "        vertical-align: middle;\n",
       "    }\n",
       "\n",
       "    .dataframe tbody tr th {\n",
       "        vertical-align: top;\n",
       "    }\n",
       "\n",
       "    .dataframe thead th {\n",
       "        text-align: right;\n",
       "    }\n",
       "</style>\n",
       "<table border=\"1\" class=\"dataframe\">\n",
       "  <thead>\n",
       "    <tr style=\"text-align: right;\">\n",
       "      <th></th>\n",
       "      <th>0</th>\n",
       "      <th>1</th>\n",
       "      <th>2</th>\n",
       "      <th>3</th>\n",
       "      <th>4</th>\n",
       "      <th>5</th>\n",
       "      <th>6</th>\n",
       "      <th>7</th>\n",
       "      <th>8</th>\n",
       "      <th>9</th>\n",
       "      <th>...</th>\n",
       "      <th>101</th>\n",
       "      <th>102</th>\n",
       "      <th>103</th>\n",
       "      <th>104</th>\n",
       "      <th>105</th>\n",
       "      <th>106</th>\n",
       "      <th>107</th>\n",
       "      <th>108</th>\n",
       "      <th>109</th>\n",
       "      <th>110</th>\n",
       "    </tr>\n",
       "  </thead>\n",
       "  <tbody>\n",
       "    <tr>\n",
       "      <th>4</th>\n",
       "      <td>paidsocial</td>\n",
       "      <td>NaN</td>\n",
       "      <td>NaN</td>\n",
       "      <td>NaN</td>\n",
       "      <td>NaN</td>\n",
       "      <td>NaN</td>\n",
       "      <td>NaN</td>\n",
       "      <td>NaN</td>\n",
       "      <td>NaN</td>\n",
       "      <td>NaN</td>\n",
       "      <td>...</td>\n",
       "      <td>NaN</td>\n",
       "      <td>NaN</td>\n",
       "      <td>NaN</td>\n",
       "      <td>NaN</td>\n",
       "      <td>NaN</td>\n",
       "      <td>NaN</td>\n",
       "      <td>NaN</td>\n",
       "      <td>NaN</td>\n",
       "      <td>NaN</td>\n",
       "      <td>NaN</td>\n",
       "    </tr>\n",
       "    <tr>\n",
       "      <th>5</th>\n",
       "      <td>cpc</td>\n",
       "      <td>NaN</td>\n",
       "      <td>NaN</td>\n",
       "      <td>NaN</td>\n",
       "      <td>NaN</td>\n",
       "      <td>NaN</td>\n",
       "      <td>NaN</td>\n",
       "      <td>NaN</td>\n",
       "      <td>NaN</td>\n",
       "      <td>NaN</td>\n",
       "      <td>...</td>\n",
       "      <td>NaN</td>\n",
       "      <td>NaN</td>\n",
       "      <td>NaN</td>\n",
       "      <td>NaN</td>\n",
       "      <td>NaN</td>\n",
       "      <td>NaN</td>\n",
       "      <td>NaN</td>\n",
       "      <td>NaN</td>\n",
       "      <td>NaN</td>\n",
       "      <td>NaN</td>\n",
       "    </tr>\n",
       "    <tr>\n",
       "      <th>6</th>\n",
       "      <td>organic</td>\n",
       "      <td>NaN</td>\n",
       "      <td>NaN</td>\n",
       "      <td>NaN</td>\n",
       "      <td>NaN</td>\n",
       "      <td>NaN</td>\n",
       "      <td>NaN</td>\n",
       "      <td>NaN</td>\n",
       "      <td>NaN</td>\n",
       "      <td>NaN</td>\n",
       "      <td>...</td>\n",
       "      <td>NaN</td>\n",
       "      <td>NaN</td>\n",
       "      <td>NaN</td>\n",
       "      <td>NaN</td>\n",
       "      <td>NaN</td>\n",
       "      <td>NaN</td>\n",
       "      <td>NaN</td>\n",
       "      <td>NaN</td>\n",
       "      <td>NaN</td>\n",
       "      <td>NaN</td>\n",
       "    </tr>\n",
       "    <tr>\n",
       "      <th>9</th>\n",
       "      <td>cpc</td>\n",
       "      <td>NaN</td>\n",
       "      <td>NaN</td>\n",
       "      <td>NaN</td>\n",
       "      <td>NaN</td>\n",
       "      <td>NaN</td>\n",
       "      <td>NaN</td>\n",
       "      <td>NaN</td>\n",
       "      <td>NaN</td>\n",
       "      <td>NaN</td>\n",
       "      <td>...</td>\n",
       "      <td>NaN</td>\n",
       "      <td>NaN</td>\n",
       "      <td>NaN</td>\n",
       "      <td>NaN</td>\n",
       "      <td>NaN</td>\n",
       "      <td>NaN</td>\n",
       "      <td>NaN</td>\n",
       "      <td>NaN</td>\n",
       "      <td>NaN</td>\n",
       "      <td>NaN</td>\n",
       "    </tr>\n",
       "    <tr>\n",
       "      <th>10</th>\n",
       "      <td>paidsocial</td>\n",
       "      <td>NaN</td>\n",
       "      <td>NaN</td>\n",
       "      <td>NaN</td>\n",
       "      <td>NaN</td>\n",
       "      <td>NaN</td>\n",
       "      <td>NaN</td>\n",
       "      <td>NaN</td>\n",
       "      <td>NaN</td>\n",
       "      <td>NaN</td>\n",
       "      <td>...</td>\n",
       "      <td>NaN</td>\n",
       "      <td>NaN</td>\n",
       "      <td>NaN</td>\n",
       "      <td>NaN</td>\n",
       "      <td>NaN</td>\n",
       "      <td>NaN</td>\n",
       "      <td>NaN</td>\n",
       "      <td>NaN</td>\n",
       "      <td>NaN</td>\n",
       "      <td>NaN</td>\n",
       "    </tr>\n",
       "  </tbody>\n",
       "</table>\n",
       "<p>5 rows × 111 columns</p>\n",
       "</div>"
      ],
      "text/plain": [
       "           0    1    2    3    4    5    6    7    8    9    ...  101  102  \\\n",
       "4   paidsocial  NaN  NaN  NaN  NaN  NaN  NaN  NaN  NaN  NaN  ...  NaN  NaN   \n",
       "5          cpc  NaN  NaN  NaN  NaN  NaN  NaN  NaN  NaN  NaN  ...  NaN  NaN   \n",
       "6      organic  NaN  NaN  NaN  NaN  NaN  NaN  NaN  NaN  NaN  ...  NaN  NaN   \n",
       "9          cpc  NaN  NaN  NaN  NaN  NaN  NaN  NaN  NaN  NaN  ...  NaN  NaN   \n",
       "10  paidsocial  NaN  NaN  NaN  NaN  NaN  NaN  NaN  NaN  NaN  ...  NaN  NaN   \n",
       "\n",
       "    103  104  105  106  107  108  109  110  \n",
       "4   NaN  NaN  NaN  NaN  NaN  NaN  NaN  NaN  \n",
       "5   NaN  NaN  NaN  NaN  NaN  NaN  NaN  NaN  \n",
       "6   NaN  NaN  NaN  NaN  NaN  NaN  NaN  NaN  \n",
       "9   NaN  NaN  NaN  NaN  NaN  NaN  NaN  NaN  \n",
       "10  NaN  NaN  NaN  NaN  NaN  NaN  NaN  NaN  \n",
       "\n",
       "[5 rows x 111 columns]"
      ]
     },
     "execution_count": 134,
     "metadata": {},
     "output_type": "execute_result"
    }
   ],
   "source": [
    "expanded_paths.head()"
   ]
  },
  {
   "cell_type": "code",
   "execution_count": 135,
   "id": "3cfc7423",
   "metadata": {},
   "outputs": [
    {
     "data": {
      "text/plain": [
       "(71009, 111)"
      ]
     },
     "execution_count": 135,
     "metadata": {},
     "output_type": "execute_result"
    }
   ],
   "source": [
    "expanded_paths.shape"
   ]
  },
  {
   "cell_type": "code",
   "execution_count": 136,
   "id": "e6e75f2e",
   "metadata": {},
   "outputs": [],
   "source": [
    "# Create a new DataFrame with expanded paths\n",
    "expanded_data = pd.concat([data_filtered.drop('medium_path', axis=1), expanded_paths], axis=1)\n",
    "\n",
    "# Rename the expanded path columns\n",
    "#expanded_data.columns = ['user_pseudo_id', 'conversion_flag', 'first_touchpoint', 'conversion_timestamp', 'step1', 'step2', 'step3', 'step4', 'step5', 'step6']"
   ]
  },
  {
   "cell_type": "code",
   "execution_count": 137,
   "id": "6039338d",
   "metadata": {},
   "outputs": [],
   "source": [
    "# Define the maximum number of steps\n",
    "max_steps = 111\n",
    "\n",
    "# Create a list of column names\n",
    "column_names = ['user_pseudo_id', 'conversion_flag', 'first_touchpoint', 'conversion_timestamp']\n",
    "for i in range(1, max_steps + 1):\n",
    "    column_names.append(f'step{i}')\n",
    "\n",
    "# Assign the column names to the DataFrame\n",
    "expanded_data.columns = column_names"
   ]
  },
  {
   "cell_type": "code",
   "execution_count": 138,
   "id": "aea70cc0",
   "metadata": {},
   "outputs": [
    {
     "data": {
      "text/html": [
       "<div>\n",
       "<style scoped>\n",
       "    .dataframe tbody tr th:only-of-type {\n",
       "        vertical-align: middle;\n",
       "    }\n",
       "\n",
       "    .dataframe tbody tr th {\n",
       "        vertical-align: top;\n",
       "    }\n",
       "\n",
       "    .dataframe thead th {\n",
       "        text-align: right;\n",
       "    }\n",
       "</style>\n",
       "<table border=\"1\" class=\"dataframe\">\n",
       "  <thead>\n",
       "    <tr style=\"text-align: right;\">\n",
       "      <th></th>\n",
       "      <th>user_pseudo_id</th>\n",
       "      <th>conversion_flag</th>\n",
       "      <th>first_touchpoint</th>\n",
       "      <th>conversion_timestamp</th>\n",
       "      <th>step1</th>\n",
       "      <th>step2</th>\n",
       "      <th>step3</th>\n",
       "      <th>step4</th>\n",
       "      <th>step5</th>\n",
       "      <th>step6</th>\n",
       "      <th>...</th>\n",
       "      <th>step102</th>\n",
       "      <th>step103</th>\n",
       "      <th>step104</th>\n",
       "      <th>step105</th>\n",
       "      <th>step106</th>\n",
       "      <th>step107</th>\n",
       "      <th>step108</th>\n",
       "      <th>step109</th>\n",
       "      <th>step110</th>\n",
       "      <th>step111</th>\n",
       "    </tr>\n",
       "  </thead>\n",
       "  <tbody>\n",
       "    <tr>\n",
       "      <th>4</th>\n",
       "      <td>nP78ikNKi2iu1IJUO+LWIPcoByh3ZWFvlIzIl174i1jCuK...</td>\n",
       "      <td>0</td>\n",
       "      <td>2022-12-28 00:00:52.722434 UTC</td>\n",
       "      <td>NaN</td>\n",
       "      <td>paidsocial</td>\n",
       "      <td>NaN</td>\n",
       "      <td>NaN</td>\n",
       "      <td>NaN</td>\n",
       "      <td>NaN</td>\n",
       "      <td>NaN</td>\n",
       "      <td>...</td>\n",
       "      <td>NaN</td>\n",
       "      <td>NaN</td>\n",
       "      <td>NaN</td>\n",
       "      <td>NaN</td>\n",
       "      <td>NaN</td>\n",
       "      <td>NaN</td>\n",
       "      <td>NaN</td>\n",
       "      <td>NaN</td>\n",
       "      <td>NaN</td>\n",
       "      <td>NaN</td>\n",
       "    </tr>\n",
       "    <tr>\n",
       "      <th>5</th>\n",
       "      <td>Kkx/yH2k8X5rWdx+wG7DPuxpEyCsvSNwDqr4BzWGpxQw38...</td>\n",
       "      <td>0</td>\n",
       "      <td>2022-12-28 00:01:01.875587 UTC</td>\n",
       "      <td>NaN</td>\n",
       "      <td>cpc</td>\n",
       "      <td>NaN</td>\n",
       "      <td>NaN</td>\n",
       "      <td>NaN</td>\n",
       "      <td>NaN</td>\n",
       "      <td>NaN</td>\n",
       "      <td>...</td>\n",
       "      <td>NaN</td>\n",
       "      <td>NaN</td>\n",
       "      <td>NaN</td>\n",
       "      <td>NaN</td>\n",
       "      <td>NaN</td>\n",
       "      <td>NaN</td>\n",
       "      <td>NaN</td>\n",
       "      <td>NaN</td>\n",
       "      <td>NaN</td>\n",
       "      <td>NaN</td>\n",
       "    </tr>\n",
       "    <tr>\n",
       "      <th>6</th>\n",
       "      <td>brAeKj/gaKj8RkzQBIJfe/5XDKShTLwOcTh6yXQink4Kuo...</td>\n",
       "      <td>0</td>\n",
       "      <td>2022-12-28 00:01:15.005975 UTC</td>\n",
       "      <td>NaN</td>\n",
       "      <td>organic</td>\n",
       "      <td>NaN</td>\n",
       "      <td>NaN</td>\n",
       "      <td>NaN</td>\n",
       "      <td>NaN</td>\n",
       "      <td>NaN</td>\n",
       "      <td>...</td>\n",
       "      <td>NaN</td>\n",
       "      <td>NaN</td>\n",
       "      <td>NaN</td>\n",
       "      <td>NaN</td>\n",
       "      <td>NaN</td>\n",
       "      <td>NaN</td>\n",
       "      <td>NaN</td>\n",
       "      <td>NaN</td>\n",
       "      <td>NaN</td>\n",
       "      <td>NaN</td>\n",
       "    </tr>\n",
       "    <tr>\n",
       "      <th>9</th>\n",
       "      <td>4i0jYrhlk2CNR94hRIat8WPFLkU8dRdcPgKA1oDlwsWbUe...</td>\n",
       "      <td>0</td>\n",
       "      <td>2022-12-28 00:02:08.431349 UTC</td>\n",
       "      <td>NaN</td>\n",
       "      <td>cpc</td>\n",
       "      <td>NaN</td>\n",
       "      <td>NaN</td>\n",
       "      <td>NaN</td>\n",
       "      <td>NaN</td>\n",
       "      <td>NaN</td>\n",
       "      <td>...</td>\n",
       "      <td>NaN</td>\n",
       "      <td>NaN</td>\n",
       "      <td>NaN</td>\n",
       "      <td>NaN</td>\n",
       "      <td>NaN</td>\n",
       "      <td>NaN</td>\n",
       "      <td>NaN</td>\n",
       "      <td>NaN</td>\n",
       "      <td>NaN</td>\n",
       "      <td>NaN</td>\n",
       "    </tr>\n",
       "    <tr>\n",
       "      <th>10</th>\n",
       "      <td>JDClr9MBvuQkNi/PeCvCFScJ0NL/3qIlq0ZWVYzoGSbsNC...</td>\n",
       "      <td>0</td>\n",
       "      <td>2022-12-28 00:02:24.791342 UTC</td>\n",
       "      <td>NaN</td>\n",
       "      <td>paidsocial</td>\n",
       "      <td>NaN</td>\n",
       "      <td>NaN</td>\n",
       "      <td>NaN</td>\n",
       "      <td>NaN</td>\n",
       "      <td>NaN</td>\n",
       "      <td>...</td>\n",
       "      <td>NaN</td>\n",
       "      <td>NaN</td>\n",
       "      <td>NaN</td>\n",
       "      <td>NaN</td>\n",
       "      <td>NaN</td>\n",
       "      <td>NaN</td>\n",
       "      <td>NaN</td>\n",
       "      <td>NaN</td>\n",
       "      <td>NaN</td>\n",
       "      <td>NaN</td>\n",
       "    </tr>\n",
       "  </tbody>\n",
       "</table>\n",
       "<p>5 rows × 115 columns</p>\n",
       "</div>"
      ],
      "text/plain": [
       "                                       user_pseudo_id  conversion_flag  \\\n",
       "4   nP78ikNKi2iu1IJUO+LWIPcoByh3ZWFvlIzIl174i1jCuK...                0   \n",
       "5   Kkx/yH2k8X5rWdx+wG7DPuxpEyCsvSNwDqr4BzWGpxQw38...                0   \n",
       "6   brAeKj/gaKj8RkzQBIJfe/5XDKShTLwOcTh6yXQink4Kuo...                0   \n",
       "9   4i0jYrhlk2CNR94hRIat8WPFLkU8dRdcPgKA1oDlwsWbUe...                0   \n",
       "10  JDClr9MBvuQkNi/PeCvCFScJ0NL/3qIlq0ZWVYzoGSbsNC...                0   \n",
       "\n",
       "                  first_touchpoint conversion_timestamp       step1 step2  \\\n",
       "4   2022-12-28 00:00:52.722434 UTC                  NaN  paidsocial   NaN   \n",
       "5   2022-12-28 00:01:01.875587 UTC                  NaN         cpc   NaN   \n",
       "6   2022-12-28 00:01:15.005975 UTC                  NaN     organic   NaN   \n",
       "9   2022-12-28 00:02:08.431349 UTC                  NaN         cpc   NaN   \n",
       "10  2022-12-28 00:02:24.791342 UTC                  NaN  paidsocial   NaN   \n",
       "\n",
       "   step3 step4 step5 step6  ... step102 step103 step104 step105 step106  \\\n",
       "4    NaN   NaN   NaN   NaN  ...     NaN     NaN     NaN     NaN     NaN   \n",
       "5    NaN   NaN   NaN   NaN  ...     NaN     NaN     NaN     NaN     NaN   \n",
       "6    NaN   NaN   NaN   NaN  ...     NaN     NaN     NaN     NaN     NaN   \n",
       "9    NaN   NaN   NaN   NaN  ...     NaN     NaN     NaN     NaN     NaN   \n",
       "10   NaN   NaN   NaN   NaN  ...     NaN     NaN     NaN     NaN     NaN   \n",
       "\n",
       "   step107 step108 step109 step110 step111  \n",
       "4      NaN     NaN     NaN     NaN     NaN  \n",
       "5      NaN     NaN     NaN     NaN     NaN  \n",
       "6      NaN     NaN     NaN     NaN     NaN  \n",
       "9      NaN     NaN     NaN     NaN     NaN  \n",
       "10     NaN     NaN     NaN     NaN     NaN  \n",
       "\n",
       "[5 rows x 115 columns]"
      ]
     },
     "execution_count": 138,
     "metadata": {},
     "output_type": "execute_result"
    }
   ],
   "source": [
    "expanded_data.head()"
   ]
  },
  {
   "cell_type": "markdown",
   "id": "0f5a8b23",
   "metadata": {},
   "source": [
    "## Path Length Analysis:\n"
   ]
  },
  {
   "cell_type": "markdown",
   "id": "b4bc7a8e",
   "metadata": {},
   "source": [
    "converted users"
   ]
  },
  {
   "cell_type": "code",
   "execution_count": 181,
   "id": "c122f9f1",
   "metadata": {},
   "outputs": [
    {
     "name": "stdout",
     "output_type": "stream",
     "text": [
      "Distribution of Path Lengths:\n",
      "1     2245\n",
      "2      581\n",
      "3      269\n",
      "4      131\n",
      "5       76\n",
      "6       59\n",
      "7       30\n",
      "8       21\n",
      "10      15\n",
      "9       14\n",
      "13       8\n",
      "11       6\n",
      "15       6\n",
      "12       5\n",
      "19       4\n",
      "21       2\n",
      "17       2\n",
      "42       2\n",
      "16       1\n",
      "22       1\n",
      "23       1\n",
      "33       1\n",
      "27       1\n",
      "28       1\n",
      "74       1\n",
      "34       1\n",
      "25       1\n",
      "18       1\n",
      "29       1\n",
      "20       1\n",
      "14       1\n",
      "Name: Path Length, dtype: int64\n"
     ]
    },
    {
     "data": {
      "image/png": "[encoded data removed]",
      "text/plain": [
       "<Figure size 1000x600 with 1 Axes>"
      ]
     },
     "metadata": {},
     "output_type": "display_data"
    },
    {
     "name": "stdout",
     "output_type": "stream",
     "text": [
      "\n",
      "Average Path Length: 2.02\n"
     ]
    }
   ],
   "source": [
    "import pandas as pd\n",
    "import matplotlib.pyplot as plt\n",
    "\n",
    "converted_users = data_filtered[data_filtered['conversion_flag'] == 1]\n",
    "\n",
    "# Expand medium paths into separate steps\n",
    "expanded_paths = converted_users['medium_path'].str.split(',', expand=True)\n",
    "\n",
    "# Calculate path lengths\n",
    "path_lengths = expanded_paths.count(axis=1)\n",
    "\n",
    "# Create a DataFrame for path length analysis\n",
    "path_length_analysis = pd.DataFrame({\n",
    "    'Path Length': path_lengths\n",
    "})\n",
    "\n",
    "# Calculate the average path length\n",
    "average_path_length = path_length_analysis['Path Length'].mean()\n",
    "\n",
    "# Print the distribution of path lengths\n",
    "print(\"Distribution of Path Lengths:\")\n",
    "print(path_length_analysis['Path Length'].value_counts())\n",
    "\n",
    "# Plot the distribution of path lengths\n",
    "plt.figure(figsize=(10, 6))\n",
    "path_length_analysis['Path Length'].value_counts().plot(kind='bar')\n",
    "plt.xlabel('Path Length')\n",
    "plt.ylabel('Frequency')\n",
    "plt.title('Distribution of Path Lengths')\n",
    "plt.show()\n",
    "\n",
    "# Calculate and print the average path length\n",
    "print(f\"\\nAverage Path Length: {average_path_length:.2f}\")"
   ]
  },
  {
   "cell_type": "code",
   "execution_count": 188,
   "id": "d918a1ce",
   "metadata": {},
   "outputs": [
    {
     "name": "stdout",
     "output_type": "stream",
     "text": [
      "organic        622\n",
      "cpc            607\n",
      "email          595\n",
      "affiliates     205\n",
      "referral       106\n",
      "paidsocial      77\n",
      "gotoweb         31\n",
      "chumba_post      2\n",
      "Name: step1, dtype: int64\n"
     ]
    }
   ],
   "source": [
    "converted_users = expanded_data[expanded_data['conversion_flag'] == 1]\n",
    "\n",
    "one_step_counts = converted_users[(converted_users['step2'].isnull())]['step1'].value_counts()\n",
    "print(one_step_counts)"
   ]
  },
  {
   "cell_type": "code",
   "execution_count": 200,
   "id": "69e37b1c",
   "metadata": {},
   "outputs": [
    {
     "name": "stdout",
     "output_type": "stream",
     "text": [
      "paidsocial         22926\n",
      "organic            20997\n",
      "cpc                19274\n",
      "email              17527\n",
      "affiliates         13153\n",
      "referral           10772\n",
      "gotoweb             3552\n",
      "chumba_post           51\n",
      "company_profile        8\n",
      "influencer             5\n",
      "a                      1\n",
      "affili                 1\n",
      "undefined              1\n",
      "Name: medium_steps, dtype: int64\n",
      "paidsocial         21.175232\n",
      "organic            19.393542\n",
      "cpc                17.802121\n",
      "email              16.188532\n",
      "affiliates         12.148557\n",
      "referral            9.949385\n",
      "gotoweb             3.280748\n",
      "chumba_post         0.047105\n",
      "company_profile     0.007389\n",
      "influencer          0.004618\n",
      "a                   0.000924\n",
      "affili              0.000924\n",
      "undefined           0.000924\n",
      "Name: medium_steps, dtype: float64\n"
     ]
    }
   ],
   "source": [
    "import pandas as pd\n",
    "\n",
    "# Load the dataset\n",
    "\n",
    "# Data cleaning\n",
    "#cp['first_touchpoint'] = pd.to_datetime(df['first_touchpoint'])\n",
    "#cp['conversion_timestamp'] = pd.to_datetime(df['conversion_timestamp'])\n",
    "\n",
    "# Explode the medium_path to separate each step\n",
    "df['medium_steps'] = data_filtered['medium_path'].str.split(',')\n",
    "exploded_df = df.explode('medium_steps')\n",
    "\n",
    "# Count the occurrences of each traffic source across all steps\n",
    "traffic_source_counts = exploded_df['medium_steps'].value_counts()\n",
    "\n",
    "print(traffic_source_counts)\n",
    "\n",
    "# Calculate the total number of steps\n",
    "total_steps = traffic_source_counts.sum()\n",
    "\n",
    "# Calculate the percentage of each traffic source\n",
    "traffic_source_percentages = (traffic_source_counts / total_steps) * 100\n",
    "\n",
    "# Display the traffic sources and their percentages\n",
    "print(traffic_source_percentages)"
   ]
  },
  {
   "cell_type": "code",
   "execution_count": null,
   "id": "703f1e84",
   "metadata": {},
   "outputs": [],
   "source": []
  },
  {
   "cell_type": "code",
   "execution_count": 205,
   "id": "e4451978",
   "metadata": {},
   "outputs": [
    {
     "name": "stdout",
     "output_type": "stream",
     "text": [
      "Distribution of Path Lengths:\n",
      "1      55119\n",
      "2       6636\n",
      "3       2401\n",
      "4       1173\n",
      "5        666\n",
      "6        348\n",
      "7        259\n",
      "8        183\n",
      "9        121\n",
      "10        97\n",
      "11        71\n",
      "12        57\n",
      "13        43\n",
      "14        35\n",
      "15        33\n",
      "20        27\n",
      "19        26\n",
      "17        25\n",
      "18        22\n",
      "16        21\n",
      "21        15\n",
      "24        15\n",
      "26        14\n",
      "25        12\n",
      "23        12\n",
      "22        12\n",
      "29         9\n",
      "27         7\n",
      "28         5\n",
      "35         4\n",
      "30         4\n",
      "36         4\n",
      "51         4\n",
      "39         3\n",
      "37         3\n",
      "33         3\n",
      "44         3\n",
      "34         2\n",
      "42         2\n",
      "31         2\n",
      "47         2\n",
      "65         2\n",
      "38         2\n",
      "40         2\n",
      "43         2\n",
      "80         2\n",
      "55         2\n",
      "48         1\n",
      "67         1\n",
      "57         1\n",
      "59         1\n",
      "41         1\n",
      "111        1\n",
      "64         1\n",
      "50         1\n",
      "Name: Path Length, dtype: int64\n"
     ]
    },
    {
     "data": {
      "image/png": "[encoded data removed]",
      "text/plain": [
       "<Figure size 1000x600 with 1 Axes>"
      ]
     },
     "metadata": {},
     "output_type": "display_data"
    },
    {
     "name": "stdout",
     "output_type": "stream",
     "text": [
      "\n",
      "Average Path Length: count    67520.000000\n",
      "mean         1.499156\n",
      "std          2.135205\n",
      "min          1.000000\n",
      "25%          1.000000\n",
      "50%          1.000000\n",
      "75%          1.000000\n",
      "max        111.000000\n",
      "Name: Path Length, dtype: float64\n"
     ]
    }
   ],
   "source": [
    "import pandas as pd\n",
    "import matplotlib.pyplot as plt\n",
    "\n",
    "not_converted_users = data_filtered[data_filtered['conversion_flag'] == 0]\n",
    "\n",
    "# Expand medium paths into separate steps\n",
    "expanded_paths = not_converted_users['medium_path'].str.split(',', expand=True)\n",
    "\n",
    "# Calculate path lengths\n",
    "path_lengths = expanded_paths.count(axis=1)\n",
    "\n",
    "# Create a DataFrame for path length analysis\n",
    "path_length_analysis = pd.DataFrame({\n",
    "    'Path Length': path_lengths\n",
    "})\n",
    "\n",
    "# Calculate the average path length\n",
    "average_path_length = path_length_analysis['Path Length'].describe()\n",
    "\n",
    "# Print the distribution of path lengths\n",
    "print(\"Distribution of Path Lengths:\")\n",
    "print(path_length_analysis['Path Length'].value_counts())\n",
    "\n",
    "# Plot the distribution of path lengths\n",
    "plt.figure(figsize=(10, 6))\n",
    "path_length_analysis['Path Length'].value_counts().plot(kind='bar')\n",
    "plt.xlabel('Path Length')\n",
    "plt.ylabel('Frequency')\n",
    "plt.title('Distribution of Path Lengths')\n",
    "plt.show()\n",
    "\n",
    "# Calculate and print the average path length\n",
    "print(f\"\\nAverage Path Length: {average_path_length}\")"
   ]
  },
  {
   "cell_type": "markdown",
   "id": "9f9db784",
   "metadata": {},
   "source": [
    "common conversion path"
   ]
  },
  {
   "cell_type": "code",
   "execution_count": 210,
   "id": "66524a1b",
   "metadata": {},
   "outputs": [
    {
     "name": "stdout",
     "output_type": "stream",
     "text": [
      "Common Conversion Paths:\n",
      " organic                                                              622\n",
      "cpc                                                                  607\n",
      "email                                                                595\n",
      "affiliates                                                           205\n",
      "email,email                                                          110\n",
      "referral                                                             106\n",
      "organic,organic                                                       79\n",
      "paidsocial                                                            77\n",
      "affiliates,affiliates                                                 76\n",
      "cpc,cpc                                                               57\n",
      "organic,organic,organic                                               49\n",
      "cpc,email                                                             47\n",
      "gotoweb                                                               31\n",
      "email,email,email                                                     29\n",
      "cpc,cpc,cpc                                                           28\n",
      "affiliates,affiliates,affiliates                                      24\n",
      "organic,affiliates                                                    24\n",
      "organic,email                                                         22\n",
      "cpc,organic                                                           20\n",
      "referral,referral                                                     19\n",
      "organic,organic,organic,organic                                       17\n",
      "gotoweb,gotoweb                                                       16\n",
      "affiliates,referral                                                   14\n",
      "affiliates,email                                                      14\n",
      "email,email,email,email                                               13\n",
      "referral,referral,referral                                            12\n",
      "email,organic                                                         12\n",
      "cpc,organic,organic                                                   12\n",
      "organic,organic,organic,organic,organic                               11\n",
      "affiliates,affiliates,affiliates,affiliates                           11\n",
      "paidsocial,paidsocial                                                 10\n",
      "cpc,email,email                                                       10\n",
      "affiliates,organic                                                     8\n",
      "email,email,email,email,email                                          7\n",
      "referral,email                                                         7\n",
      "gotoweb,gotoweb,gotoweb                                                7\n",
      "affiliates,affiliates,email                                            6\n",
      "affiliates,affiliates,affiliates,affiliates,affiliates,affiliates      6\n",
      "organic,organic,organic,organic,organic,organic                        6\n",
      "cpc,cpc,organic                                                        6\n",
      "Name: medium_path, dtype: int64\n"
     ]
    }
   ],
   "source": [
    "# Identify the most common conversion paths\n",
    "common_conversion_paths = df[df['conversion_flag'] == 1]['medium_path'].value_counts().head(40)\n",
    "print(\"Common Conversion Paths:\\n\", common_conversion_paths)\n"
   ]
  },
  {
   "cell_type": "markdown",
   "id": "c6e902ba",
   "metadata": {},
   "source": [
    "time to conversion"
   ]
  },
  {
   "cell_type": "code",
   "execution_count": 213,
   "id": "8ea4d6f3",
   "metadata": {},
   "outputs": [
    {
     "name": "stderr",
     "output_type": "stream",
     "text": [
      "/var/folders/bs/vlvnkzy90fz1y9dk0zv_78000000gn/T/ipykernel_42091/45137544.py:1: SettingWithCopyWarning: \n",
      "A value is trying to be set on a copy of a slice from a DataFrame.\n",
      "Try using .loc[row_indexer,col_indexer] = value instead\n",
      "\n",
      "See the caveats in the documentation: https://pandas.pydata.org/pandas-docs/stable/user_guide/indexing.html#returning-a-view-versus-a-copy\n",
      "  data_filtered['first_touchpoint'] = pd.to_datetime(df['first_touchpoint'])\n"
     ]
    },
    {
     "name": "stdout",
     "output_type": "stream",
     "text": [
      "Time to Conversion Stats:\n",
      " count                         3489\n",
      "mean     2 days 08:32:15.255265879\n",
      "std      4 days 05:56:30.370511375\n",
      "min         0 days 00:00:00.003316\n",
      "25%         0 days 00:07:10.569520\n",
      "50%         0 days 08:13:59.731664\n",
      "75%         2 days 22:14:11.317561\n",
      "max        27 days 14:48:07.306419\n",
      "Name: time_to_conversion, dtype: object\n"
     ]
    },
    {
     "name": "stderr",
     "output_type": "stream",
     "text": [
      "/var/folders/bs/vlvnkzy90fz1y9dk0zv_78000000gn/T/ipykernel_42091/45137544.py:2: SettingWithCopyWarning: \n",
      "A value is trying to be set on a copy of a slice from a DataFrame.\n",
      "Try using .loc[row_indexer,col_indexer] = value instead\n",
      "\n",
      "See the caveats in the documentation: https://pandas.pydata.org/pandas-docs/stable/user_guide/indexing.html#returning-a-view-versus-a-copy\n",
      "  data_filtered['conversion_timestamp'] = pd.to_datetime(df['conversion_timestamp'])\n"
     ]
    }
   ],
   "source": [
    "data_filtered['first_touchpoint'] = pd.to_datetime(df['first_touchpoint'])\n",
    "data_filtered['conversion_timestamp'] = pd.to_datetime(df['conversion_timestamp'])\n",
    "\n",
    "# Calculate the time to conversion\n",
    "df['time_to_conversion'] = data_filtered['conversion_timestamp'] - data_filtered['first_touchpoint']\n",
    "\n",
    "# Filter for converted users and get descriptive stats\n",
    "time_to_conversion_stats = df[df['conversion_flag'] == 1]['time_to_conversion'].describe()\n",
    "print(\"Time to Conversion Stats:\\n\", time_to_conversion_stats)\n"
   ]
  },
  {
   "cell_type": "markdown",
   "id": "b15cff2a",
   "metadata": {},
   "source": [
    "## channel interaction\n"
   ]
  },
  {
   "cell_type": "markdown",
   "id": "b352d3f7",
   "metadata": {},
   "source": [
    "## First click attribution"
   ]
  },
  {
   "cell_type": "code",
   "execution_count": 224,
   "id": "84e6999a",
   "metadata": {},
   "outputs": [
    {
     "name": "stdout",
     "output_type": "stream",
     "text": [
      "paidsocial         21542\n",
      "cpc                14388\n",
      "email              10919\n",
      "organic             9187\n",
      "referral            7119\n",
      "affiliates          7064\n",
      "gotoweb              749\n",
      "chumba_post           30\n",
      "company_profile        6\n",
      "influencer             3\n",
      "affili                 1\n",
      "undefined              1\n",
      "Name: step1, dtype: int64\n"
     ]
    }
   ],
   "source": [
    "total_impressions = expanded_data['step1'].value_counts()\n",
    "print(total_impressions)"
   ]
  },
  {
   "cell_type": "code",
   "execution_count": 140,
   "id": "3fb79d89",
   "metadata": {},
   "outputs": [
    {
     "name": "stdout",
     "output_type": "stream",
     "text": [
      "paidsocial         21542\n",
      "cpc                14388\n",
      "email              10919\n",
      "organic             9187\n",
      "referral            7119\n",
      "affiliates          7064\n",
      "gotoweb              749\n",
      "chumba_post           30\n",
      "company_profile        6\n",
      "Name: step1, dtype: int64\n"
     ]
    }
   ],
   "source": [
    "# Filter out the rows with \"undefined\" and \"influencer\" traffic sources\n",
    "total_impressions = total_impressions[~total_impressions.index.isin(['undefined', 'influencer', 'affili' ])]\n",
    "\n",
    "# Print the updated DataFrame\n",
    "print(total_impressions)"
   ]
  },
  {
   "cell_type": "code",
   "execution_count": 141,
   "id": "2df5b67a",
   "metadata": {},
   "outputs": [
    {
     "name": "stdout",
     "output_type": "stream",
     "text": [
      "organic            934\n",
      "cpc                899\n",
      "email              828\n",
      "affiliates         464\n",
      "referral           181\n",
      "paidsocial         103\n",
      "gotoweb             77\n",
      "chumba_post          2\n",
      "company_profile      1\n",
      "Name: step1, dtype: int64\n"
     ]
    }
   ],
   "source": [
    "# Filter converted users\n",
    "converted_users = expanded_data[expanded_data['conversion_flag'] == 1]\n",
    "\n",
    "# Count occurrences of each medium path step (first step)\n",
    "first_step_counts = converted_users['step1'].value_counts()\n",
    "print(first_step_counts)"
   ]
  },
  {
   "cell_type": "markdown",
   "id": "36fbc450",
   "metadata": {},
   "source": [
    "Leads devision by traffic sourse"
   ]
  },
  {
   "cell_type": "code",
   "execution_count": null,
   "id": "0fb9eca9",
   "metadata": {},
   "outputs": [],
   "source": []
  },
  {
   "cell_type": "code",
   "execution_count": 176,
   "id": "168dae31",
   "metadata": {},
   "outputs": [
    {
     "name": "stdout",
     "output_type": "stream",
     "text": [
      "                 Conversions  Conversion Rate (%)\n",
      "organic                  934            26.769848\n",
      "cpc                      899            25.766695\n",
      "email                    828            23.731728\n",
      "affiliates               464            13.298940\n",
      "referral                 181             5.187733\n",
      "paidsocial               103             2.952135\n",
      "gotoweb                   77             2.206936\n",
      "chumba_post                2             0.057323\n",
      "company_profile            1             0.028662\n"
     ]
    }
   ],
   "source": [
    "# Calculate total conversions\n",
    "total_conversions = len(converted_users)\n",
    "\n",
    "# Calculate conversion rates for each traffic source (first step)\n",
    "conversion_rates = first_step_counts / total_conversions * 100\n",
    "\n",
    "# Create a DataFrame for first-click attribution analysis\n",
    "first_click_attribution = pd.DataFrame({\n",
    "    #'Traffic Source': first_step_counts.index,\n",
    "    'Conversions': first_step_counts,\n",
    "    'Conversion Rate (%)': conversion_rates\n",
    "})\n",
    "\n",
    "# Print the conversion rates based on first-click attribution\n",
    "print(first_click_attribution.sort_values(by='Conversion Rate (%)', ascending=False))"
   ]
  },
  {
   "cell_type": "code",
   "execution_count": 174,
   "id": "7ebb2c6a",
   "metadata": {},
   "outputs": [
    {
     "data": {
      "text/plain": [
       "<Figure size 1000x600 with 0 Axes>"
      ]
     },
     "metadata": {},
     "output_type": "display_data"
    },
    {
     "data": {
      "image/png": "[encoded data removed]",
      "text/plain": [
       "<Figure size 640x480 with 1 Axes>"
      ]
     },
     "metadata": {},
     "output_type": "display_data"
    }
   ],
   "source": [
    "import matplotlib.pyplot as plt\n",
    "\n",
    "# Plotting medium path conversion rates\n",
    "plt.figure(figsize=(10, 6))\n",
    "first_click_attribution.plot(kind='bar', x='Traffic Source', y='Conversion Rate (%)')\n",
    "plt.title('Conversion Rates by Traffic Source')\n",
    "plt.xlabel('Traffic Source')\n",
    "plt.ylabel('Conversion Rate (%)')\n",
    "plt.xticks(rotation=45)\n",
    "plt.show()\n"
   ]
  },
  {
   "cell_type": "code",
   "execution_count": null,
   "id": "53ad486f",
   "metadata": {},
   "outputs": [],
   "source": []
  },
  {
   "cell_type": "code",
   "execution_count": 172,
   "id": "95999c47",
   "metadata": {},
   "outputs": [
    {
     "name": "stdout",
     "output_type": "stream",
     "text": [
      "                 Conversions  Impressions  Conversion Rate (%)\n",
      "company_profile            1            6            16.666667\n",
      "gotoweb                   77          749            10.280374\n",
      "organic                  934         9187            10.166540\n",
      "email                    828        10919             7.583112\n",
      "chumba_post                2           30             6.666667\n",
      "affiliates               464         7064             6.568516\n",
      "cpc                      899        14388             6.248262\n",
      "referral                 181         7119             2.542492\n",
      "paidsocial               103        21542             0.478136\n"
     ]
    },
    {
     "data": {
      "text/html": [
       "<div>\n",
       "<style scoped>\n",
       "    .dataframe tbody tr th:only-of-type {\n",
       "        vertical-align: middle;\n",
       "    }\n",
       "\n",
       "    .dataframe tbody tr th {\n",
       "        vertical-align: top;\n",
       "    }\n",
       "\n",
       "    .dataframe thead th {\n",
       "        text-align: right;\n",
       "    }\n",
       "</style>\n",
       "<table border=\"1\" class=\"dataframe\">\n",
       "  <thead>\n",
       "    <tr style=\"text-align: right;\">\n",
       "      <th></th>\n",
       "      <th>Conversions</th>\n",
       "      <th>Impressions</th>\n",
       "      <th>Conversion Rate (%)</th>\n",
       "    </tr>\n",
       "  </thead>\n",
       "  <tbody>\n",
       "    <tr>\n",
       "      <th>affiliates</th>\n",
       "      <td>464</td>\n",
       "      <td>7064</td>\n",
       "      <td>6.568516</td>\n",
       "    </tr>\n",
       "    <tr>\n",
       "      <th>chumba_post</th>\n",
       "      <td>2</td>\n",
       "      <td>30</td>\n",
       "      <td>6.666667</td>\n",
       "    </tr>\n",
       "    <tr>\n",
       "      <th>company_profile</th>\n",
       "      <td>1</td>\n",
       "      <td>6</td>\n",
       "      <td>16.666667</td>\n",
       "    </tr>\n",
       "    <tr>\n",
       "      <th>cpc</th>\n",
       "      <td>899</td>\n",
       "      <td>14388</td>\n",
       "      <td>6.248262</td>\n",
       "    </tr>\n",
       "    <tr>\n",
       "      <th>email</th>\n",
       "      <td>828</td>\n",
       "      <td>10919</td>\n",
       "      <td>7.583112</td>\n",
       "    </tr>\n",
       "  </tbody>\n",
       "</table>\n",
       "</div>"
      ],
      "text/plain": [
       "                 Conversions  Impressions  Conversion Rate (%)\n",
       "affiliates               464         7064             6.568516\n",
       "chumba_post                2           30             6.666667\n",
       "company_profile            1            6            16.666667\n",
       "cpc                      899        14388             6.248262\n",
       "email                    828        10919             7.583112"
      ]
     },
     "execution_count": 172,
     "metadata": {},
     "output_type": "execute_result"
    }
   ],
   "source": [
    "# Filter converted users\n",
    "#converted_users = expanded_data[expanded_data['conversion_flag'] == 1]\n",
    "\n",
    "# Count occurrences of each medium path step (traffic source)\n",
    "#traffic_source_counts = converted_users['step1'].value_counts()\n",
    "\n",
    "# Calculate total conversions\n",
    "#total_conversions = len(converted_users)\n",
    "\n",
    "# Calculate total impressions or visits per traffic source\n",
    "#total_impressions = expanded_data['step1'].value_counts()\n",
    "\n",
    "# Calculate conversion rates for each traffic source\n",
    "conversion_rates = (traffic_source_counts / total_impressions) * 100\n",
    "\n",
    "# Create a DataFrame for conversion rate by traffic source analysis\n",
    "conversion_rate_by_source = pd.DataFrame({\n",
    "    #'Traffic Source': traffic_source_counts.index,\n",
    "    'Conversions': traffic_source_counts,\n",
    "    'Impressions': total_impressions,\n",
    "    'Conversion Rate (%)': conversion_rates\n",
    "})\n",
    "\n",
    "#print(conversion_rate_by_source)\n",
    "# Print the conversion rates by traffic source\n",
    "print(conversion_rate_by_source.sort_values(by='Conversion Rate (%)', ascending=False))\n",
    "\n",
    "conversion_rate_by_source.head()\n"
   ]
  },
  {
   "cell_type": "code",
   "execution_count": 175,
   "id": "b1f9c9ab",
   "metadata": {},
   "outputs": [],
   "source": [
    "# import matplotlib.pyplot as plt\n",
    "\n",
    "# # Plotting medium path conversion rates\n",
    "# plt.figure(figsize=(10, 6))\n",
    "# conversion_rate_by_source.plot(kind='bar', x='Traffic Source', y='Conversion Rate (%)')\n",
    "# plt.title('Conversion Rates by Traffic Source')\n",
    "# plt.xlabel('Traffic Source')\n",
    "# plt.ylabel('Conversion Rate (%)')\n",
    "# plt.xticks(rotation=45)\n",
    "# plt.show()"
   ]
  },
  {
   "cell_type": "code",
   "execution_count": 219,
   "id": "0df2c1f5",
   "metadata": {},
   "outputs": [
    {
     "name": "stderr",
     "output_type": "stream",
     "text": [
      "/var/folders/bs/vlvnkzy90fz1y9dk0zv_78000000gn/T/ipykernel_42091/2947970966.py:13: SettingWithCopyWarning: \n",
      "A value is trying to be set on a copy of a slice from a DataFrame.\n",
      "Try using .loc[row_indexer,col_indexer] = value instead\n",
      "\n",
      "See the caveats in the documentation: https://pandas.pydata.org/pandas-docs/stable/user_guide/indexing.html#returning-a-view-versus-a-copy\n",
      "  data_filtered['medium_steps'] = data_filtered['medium_path'].str.split(',')\n",
      "/var/folders/bs/vlvnkzy90fz1y9dk0zv_78000000gn/T/ipykernel_42091/2947970966.py:22: SettingWithCopyWarning: \n",
      "A value is trying to be set on a copy of a slice from a DataFrame.\n",
      "Try using .loc[row_indexer,col_indexer] = value instead\n",
      "\n",
      "See the caveats in the documentation: https://pandas.pydata.org/pandas-docs/stable/user_guide/indexing.html#returning-a-view-versus-a-copy\n",
      "  converted_users['first_step'] = converted_users['medium_steps'].apply(lambda x: x[0] if isinstance(x, list) else np.nan)\n"
     ]
    },
    {
     "name": "stdout",
     "output_type": "stream",
     "text": [
      "First-Click Attribution:\n",
      "                  Conversions  Conversion Rate (%)\n",
      "organic                  934            26.769848\n",
      "cpc                      899            25.766695\n",
      "email                    828            23.731728\n",
      "affiliates               464            13.298940\n",
      "referral                 181             5.187733\n",
      "paidsocial               103             2.952135\n",
      "gotoweb                   77             2.206936\n",
      "chumba_post                2             0.057323\n",
      "company_profile            1             0.028662\n"
     ]
    },
    {
     "data": {
      "image/png": "[encoded data removed]",
      "text/plain": [
       "<Figure size 1000x600 with 1 Axes>"
      ]
     },
     "metadata": {},
     "output_type": "display_data"
    },
    {
     "name": "stderr",
     "output_type": "stream",
     "text": [
      "/var/folders/bs/vlvnkzy90fz1y9dk0zv_78000000gn/T/ipykernel_42091/2947970966.py:51: SettingWithCopyWarning: \n",
      "A value is trying to be set on a copy of a slice from a DataFrame.\n",
      "Try using .loc[row_indexer,col_indexer] = value instead\n",
      "\n",
      "See the caveats in the documentation: https://pandas.pydata.org/pandas-docs/stable/user_guide/indexing.html#returning-a-view-versus-a-copy\n",
      "  converted_users['last_step'] = converted_users['medium_steps'].apply(lambda x: x[-1] if isinstance(x, list) else np.nan)\n"
     ]
    },
    {
     "name": "stdout",
     "output_type": "stream",
     "text": [
      "Last-Click Attribution:\n",
      "                  Conversions  Conversion Rate (%)\n",
      "organic                  985            28.231585\n",
      "email                    933            26.741187\n",
      "cpc                      747            21.410146\n",
      "affiliates               414            11.865864\n",
      "referral                 213             6.104901\n",
      "gotoweb                  101             2.894812\n",
      "paidsocial                93             2.665520\n",
      "chumba_post                2             0.057323\n",
      "company_profile            1             0.028662\n"
     ]
    },
    {
     "data": {
      "image/png": "[encoded data removed]",
      "text/plain": [
       "<Figure size 1000x600 with 1 Axes>"
      ]
     },
     "metadata": {},
     "output_type": "display_data"
    }
   ],
   "source": [
    "import pandas as pd\n",
    "import numpy as np\n",
    "import seaborn as sns\n",
    "import matplotlib.pyplot as plt\n",
    "\n",
    "\n",
    "# Data cleaning\n",
    "#cp['first_touchpoint'] = pd.to_datetime(cp['first_touchpoint'])\n",
    "#cp['conversion_timestamp'] = pd.to_datetime(cp['conversion_timestamp'])\n",
    "\n",
    "# Filter out rows with null medium_path\n",
    "data_filtered = cp[cp['medium_path'].notnull()]\n",
    "data_filtered['medium_steps'] = data_filtered['medium_path'].str.split(',')\n",
    "\n",
    "# Filter converted users\n",
    "converted_users = data_filtered[data_filtered['conversion_flag'] == 1]\n",
    "\n",
    "# Ensure all steps are exploded into separate rows\n",
    "df = converted_users.explode('medium_steps')\n",
    "\n",
    "# Extract the first step\n",
    "converted_users['first_step'] = converted_users['medium_steps'].apply(lambda x: x[0] if isinstance(x, list) else np.nan)\n",
    "\n",
    "# Count occurrences of each first step\n",
    "first_step_counts = converted_users['first_step'].value_counts()\n",
    "\n",
    "# Calculate total conversions\n",
    "total_conversions = len(converted_users)\n",
    "\n",
    "# Calculate conversion rates for each traffic source (first step)\n",
    "first_click_conversion_rates = (first_step_counts / total_conversions) * 100\n",
    "\n",
    "# Create a DataFrame for first-click attribution analysis\n",
    "first_click_attribution = pd.DataFrame({\n",
    "    'Conversions': first_step_counts,\n",
    "    'Conversion Rate (%)': first_click_conversion_rates\n",
    "})\n",
    "\n",
    "# Print the conversion rates based on first-click attribution\n",
    "print(\"First-Click Attribution:\\n\", first_click_attribution.sort_values(by='Conversion Rate (%)', ascending=False))\n",
    "\n",
    "# Plotting first-click conversion rates\n",
    "first_click_attribution.sort_values(by='Conversion Rate (%)', ascending=False).plot(kind='bar', y='Conversion Rate (%)', legend=False, figsize=(10, 6))\n",
    "plt.title('First-Click Conversion Rates by Traffic Source')\n",
    "plt.xlabel('Traffic Source')\n",
    "plt.ylabel('Conversion Rate (%)')\n",
    "plt.xticks(rotation=45)\n",
    "plt.show()\n",
    "\n",
    "# Extract the last step\n",
    "converted_users['last_step'] = converted_users['medium_steps'].apply(lambda x: x[-1] if isinstance(x, list) else np.nan)\n",
    "\n",
    "# Count occurrences of each last step\n",
    "last_step_counts = converted_users['last_step'].value_counts()\n",
    "\n",
    "# Calculate conversion rates for each traffic source (last step)\n",
    "last_click_conversion_rates = (last_step_counts / total_conversions) * 100\n",
    "\n",
    "# Create a DataFrame for last-click attribution analysis\n",
    "last_click_attribution = pd.DataFrame({\n",
    "    'Conversions': last_step_counts,\n",
    "    'Conversion Rate (%)': last_click_conversion_rates\n",
    "})\n",
    "\n",
    "# Print the conversion rates based on last-click attribution\n",
    "print(\"Last-Click Attribution:\\n\", last_click_attribution.sort_values(by='Conversion Rate (%)', ascending=False))\n",
    "\n",
    "# Plotting last-click conversion rates\n",
    "last_click_attribution.sort_values(by='Conversion Rate (%)', ascending=False).plot(kind='bar', y='Conversion Rate (%)', legend=False, figsize=(10, 6))\n",
    "plt.title('Last-Click Conversion Rates by Traffic Source')\n",
    "plt.xlabel('Traffic Source')\n",
    "plt.ylabel('Conversion Rate (%)')\n",
    "plt.xticks(rotation=45)\n",
    "plt.show()\n"
   ]
  },
  {
   "cell_type": "code",
   "execution_count": 237,
   "id": "145dfa5d",
   "metadata": {},
   "outputs": [
    {
     "name": "stderr",
     "output_type": "stream",
     "text": [
      "/var/folders/bs/vlvnkzy90fz1y9dk0zv_78000000gn/T/ipykernel_42091/1717116594.py:3: SettingWithCopyWarning: \n",
      "A value is trying to be set on a copy of a slice from a DataFrame.\n",
      "Try using .loc[row_indexer,col_indexer] = value instead\n",
      "\n",
      "See the caveats in the documentation: https://pandas.pydata.org/pandas-docs/stable/user_guide/indexing.html#returning-a-view-versus-a-copy\n",
      "  data_filtered['medium_steps'] = data_filtered['medium_path'].str.split(',')\n"
     ]
    },
    {
     "data": {
      "text/html": [
       "<div>\n",
       "<style scoped>\n",
       "    .dataframe tbody tr th:only-of-type {\n",
       "        vertical-align: middle;\n",
       "    }\n",
       "\n",
       "    .dataframe tbody tr th {\n",
       "        vertical-align: top;\n",
       "    }\n",
       "\n",
       "    .dataframe thead th {\n",
       "        text-align: right;\n",
       "    }\n",
       "</style>\n",
       "<table border=\"1\" class=\"dataframe\">\n",
       "  <thead>\n",
       "    <tr style=\"text-align: right;\">\n",
       "      <th></th>\n",
       "      <th>user_pseudo_id</th>\n",
       "      <th>medium_path</th>\n",
       "      <th>conversion_flag</th>\n",
       "      <th>first_touchpoint</th>\n",
       "      <th>conversion_timestamp</th>\n",
       "      <th>medium_steps</th>\n",
       "    </tr>\n",
       "  </thead>\n",
       "  <tbody>\n",
       "    <tr>\n",
       "      <th>4</th>\n",
       "      <td>nP78ikNKi2iu1IJUO+LWIPcoByh3ZWFvlIzIl174i1jCuK...</td>\n",
       "      <td>paidsocial</td>\n",
       "      <td>0</td>\n",
       "      <td>2022-12-28 00:00:52.722434+00:00</td>\n",
       "      <td>NaT</td>\n",
       "      <td>[paidsocial]</td>\n",
       "    </tr>\n",
       "    <tr>\n",
       "      <th>5</th>\n",
       "      <td>Kkx/yH2k8X5rWdx+wG7DPuxpEyCsvSNwDqr4BzWGpxQw38...</td>\n",
       "      <td>cpc</td>\n",
       "      <td>0</td>\n",
       "      <td>2022-12-28 00:01:01.875587+00:00</td>\n",
       "      <td>NaT</td>\n",
       "      <td>[cpc]</td>\n",
       "    </tr>\n",
       "  </tbody>\n",
       "</table>\n",
       "</div>"
      ],
      "text/plain": [
       "                                      user_pseudo_id medium_path  \\\n",
       "4  nP78ikNKi2iu1IJUO+LWIPcoByh3ZWFvlIzIl174i1jCuK...  paidsocial   \n",
       "5  Kkx/yH2k8X5rWdx+wG7DPuxpEyCsvSNwDqr4BzWGpxQw38...         cpc   \n",
       "\n",
       "   conversion_flag                 first_touchpoint conversion_timestamp  \\\n",
       "4                0 2022-12-28 00:00:52.722434+00:00                  NaT   \n",
       "5                0 2022-12-28 00:01:01.875587+00:00                  NaT   \n",
       "\n",
       "   medium_steps  \n",
       "4  [paidsocial]  \n",
       "5         [cpc]  "
      ]
     },
     "execution_count": 237,
     "metadata": {},
     "output_type": "execute_result"
    }
   ],
   "source": [
    "# Filter out rows with null medium_path\n",
    "data_filtered = cp[cp['medium_path'].notnull()]\n",
    "data_filtered['medium_steps'] = data_filtered['medium_path'].str.split(',')\n",
    "\n",
    "# Ensure all steps are exploded into separate rows\n",
    "df = data_filtered.explode('medium_steps')\n",
    "\n",
    "data_filtered.head(2)"
   ]
  },
  {
   "cell_type": "code",
   "execution_count": 238,
   "id": "4f10047a",
   "metadata": {},
   "outputs": [
    {
     "name": "stderr",
     "output_type": "stream",
     "text": [
      "/var/folders/bs/vlvnkzy90fz1y9dk0zv_78000000gn/T/ipykernel_42091/3493476578.py:1: SettingWithCopyWarning: \n",
      "A value is trying to be set on a copy of a slice from a DataFrame.\n",
      "Try using .loc[row_indexer,col_indexer] = value instead\n",
      "\n",
      "See the caveats in the documentation: https://pandas.pydata.org/pandas-docs/stable/user_guide/indexing.html#returning-a-view-versus-a-copy\n",
      "  data_filtered['last_step'] = data_filtered['medium_steps'].apply(lambda x: x[-1] if isinstance(x, list) else None)\n"
     ]
    },
    {
     "data": {
      "text/html": [
       "<div>\n",
       "<style scoped>\n",
       "    .dataframe tbody tr th:only-of-type {\n",
       "        vertical-align: middle;\n",
       "    }\n",
       "\n",
       "    .dataframe tbody tr th {\n",
       "        vertical-align: top;\n",
       "    }\n",
       "\n",
       "    .dataframe thead th {\n",
       "        text-align: right;\n",
       "    }\n",
       "</style>\n",
       "<table border=\"1\" class=\"dataframe\">\n",
       "  <thead>\n",
       "    <tr style=\"text-align: right;\">\n",
       "      <th></th>\n",
       "      <th>user_pseudo_id</th>\n",
       "      <th>medium_path</th>\n",
       "      <th>conversion_flag</th>\n",
       "      <th>first_touchpoint</th>\n",
       "      <th>conversion_timestamp</th>\n",
       "      <th>medium_steps</th>\n",
       "      <th>last_step</th>\n",
       "    </tr>\n",
       "  </thead>\n",
       "  <tbody>\n",
       "    <tr>\n",
       "      <th>4</th>\n",
       "      <td>nP78ikNKi2iu1IJUO+LWIPcoByh3ZWFvlIzIl174i1jCuK...</td>\n",
       "      <td>paidsocial</td>\n",
       "      <td>0</td>\n",
       "      <td>2022-12-28 00:00:52.722434+00:00</td>\n",
       "      <td>NaT</td>\n",
       "      <td>[paidsocial]</td>\n",
       "      <td>paidsocial</td>\n",
       "    </tr>\n",
       "    <tr>\n",
       "      <th>5</th>\n",
       "      <td>Kkx/yH2k8X5rWdx+wG7DPuxpEyCsvSNwDqr4BzWGpxQw38...</td>\n",
       "      <td>cpc</td>\n",
       "      <td>0</td>\n",
       "      <td>2022-12-28 00:01:01.875587+00:00</td>\n",
       "      <td>NaT</td>\n",
       "      <td>[cpc]</td>\n",
       "      <td>cpc</td>\n",
       "    </tr>\n",
       "  </tbody>\n",
       "</table>\n",
       "</div>"
      ],
      "text/plain": [
       "                                      user_pseudo_id medium_path  \\\n",
       "4  nP78ikNKi2iu1IJUO+LWIPcoByh3ZWFvlIzIl174i1jCuK...  paidsocial   \n",
       "5  Kkx/yH2k8X5rWdx+wG7DPuxpEyCsvSNwDqr4BzWGpxQw38...         cpc   \n",
       "\n",
       "   conversion_flag                 first_touchpoint conversion_timestamp  \\\n",
       "4                0 2022-12-28 00:00:52.722434+00:00                  NaT   \n",
       "5                0 2022-12-28 00:01:01.875587+00:00                  NaT   \n",
       "\n",
       "   medium_steps   last_step  \n",
       "4  [paidsocial]  paidsocial  \n",
       "5         [cpc]         cpc  "
      ]
     },
     "execution_count": 238,
     "metadata": {},
     "output_type": "execute_result"
    }
   ],
   "source": [
    "data_filtered['last_step'] = data_filtered['medium_steps'].apply(lambda x: x[-1] if isinstance(x, list) else None)\n",
    "data_filtered.head(2)"
   ]
  },
  {
   "cell_type": "code",
   "execution_count": 242,
   "id": "3c5a40dd",
   "metadata": {},
   "outputs": [
    {
     "name": "stdout",
     "output_type": "stream",
     "text": [
      "paidsocial         21332\n",
      "cpc                13340\n",
      "email              11758\n",
      "organic             9391\n",
      "referral            7329\n",
      "affiliates          6966\n",
      "gotoweb              844\n",
      "chumba_post           37\n",
      "company_profile        5\n",
      "influencer             4\n",
      "a                      1\n",
      "affili                 1\n",
      "undefined              1\n",
      "Name: last_step, dtype: int64\n"
     ]
    }
   ],
   "source": [
    "total_impressions_ls = data_filtered['last_step'].value_counts()\n",
    "print(total_impressions_ls)"
   ]
  },
  {
   "cell_type": "code",
   "execution_count": 243,
   "id": "fda3d700",
   "metadata": {},
   "outputs": [
    {
     "name": "stdout",
     "output_type": "stream",
     "text": [
      "paidsocial         21332\n",
      "cpc                13340\n",
      "email              11758\n",
      "organic             9391\n",
      "referral            7329\n",
      "affiliates          6966\n",
      "gotoweb              844\n",
      "chumba_post           37\n",
      "company_profile        5\n",
      "Name: last_step, dtype: int64\n"
     ]
    }
   ],
   "source": [
    "# Filter out the rows with \"undefined\" and \"influencer\" traffic sources\n",
    "total_impressions_ls = total_impressions_ls[~total_impressions_ls.index.isin(['undefined', 'influencer', 'affili','a' ])]\n",
    "\n",
    "# Print the updated DataFrame\n",
    "print(total_impressions_ls)"
   ]
  },
  {
   "cell_type": "code",
   "execution_count": 244,
   "id": "3bebb5c0",
   "metadata": {},
   "outputs": [
    {
     "name": "stdout",
     "output_type": "stream",
     "text": [
      "organic            985\n",
      "email              933\n",
      "cpc                747\n",
      "affiliates         414\n",
      "referral           213\n",
      "gotoweb            101\n",
      "paidsocial          93\n",
      "chumba_post          2\n",
      "company_profile      1\n",
      "Name: last_step, dtype: int64\n"
     ]
    }
   ],
   "source": [
    "# Filter converted users\n",
    "converted_users_ls = data_filtered[data_filtered['conversion_flag'] == 1]\n",
    "\n",
    "# Count occurrences of each medium path step (first step)\n",
    "last_step_counts = converted_users_ls['last_step'].value_counts()\n",
    "print(last_step_counts)"
   ]
  },
  {
   "cell_type": "code",
   "execution_count": 247,
   "id": "4ae9f253",
   "metadata": {},
   "outputs": [
    {
     "name": "stdout",
     "output_type": "stream",
     "text": [
      "                 Conversions  Impressions  Conversion Rate (%)\n",
      "company_profile            1            5            20.000000\n",
      "gotoweb                  101          844            11.966825\n",
      "organic                  985         9391            10.488766\n",
      "email                    933        11758             7.935023\n",
      "affiliates               414         6966             5.943152\n",
      "cpc                      747        13340             5.599700\n",
      "chumba_post                2           37             5.405405\n",
      "referral                 213         7329             2.906263\n",
      "paidsocial                93        21332             0.435965\n"
     ]
    }
   ],
   "source": [
    "# Calculate conversion rates for each traffic source\n",
    "conversion_rates = (last_step_counts / total_impressions) * 100\n",
    "\n",
    "# Create a DataFrame for conversion rate by traffic source analysis\n",
    "conversion_rate_by_source = pd.DataFrame({\n",
    "    #'Traffic Source': traffic_source_counts.index,\n",
    "    'Conversions': last_step_counts,\n",
    "    'Impressions': total_impressions,\n",
    "    'Conversion Rate (%)': conversion_rates\n",
    "})\n",
    "\n",
    "#print(conversion_rate_by_source)\n",
    "# Print the conversion rates by traffic source\n",
    "print(conversion_rate_by_source.sort_values(by='Conversion Rate (%)', ascending=False))"
   ]
  },
  {
   "cell_type": "code",
   "execution_count": null,
   "id": "9af98e1d",
   "metadata": {},
   "outputs": [],
   "source": []
  },
  {
   "cell_type": "code",
   "execution_count": null,
   "id": "91815130",
   "metadata": {},
   "outputs": [],
   "source": []
  }
 ],
 "metadata": {
  "kernelspec": {
   "display_name": "Python 3 (ipykernel)",
   "language": "python",
   "name": "python3"
  },
  "language_info": {
   "codemirror_mode": {
    "name": "ipython",
    "version": 3
   },
   "file_extension": ".py",
   "mimetype": "text/x-python",
   "name": "python",
   "nbconvert_exporter": "python",
   "pygments_lexer": "ipython3",
   "version": "3.11.3"
  }
 },
 "nbformat": 4,
 "nbformat_minor": 5
}
