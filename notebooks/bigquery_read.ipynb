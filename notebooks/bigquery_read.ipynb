{
 "cells": [
  {
   "cell_type": "code",
   "execution_count": 7,
   "metadata": {},
   "outputs": [],
   "source": [
    "from google.cloud import bigquery\n",
    "from google.oauth2 import service_account\n",
    "import pandas as pd\n",
    "\n",
    "\n",
    "service_account_key = \"../cred/bigquery-sa.json\"  # Replace with your key file path\n",
    "project_id = \"project\"  # Replace with your project ID"
   ]
  },
  {
   "cell_type": "code",
   "execution_count": 8,
   "metadata": {},
   "outputs": [],
   "source": [
    "import logging\n",
    "logging.basicConfig(level=logging.DEBUG)"
   ]
  },
  {
   "cell_type": "code",
   "execution_count": null,
   "metadata": {},
   "outputs": [],
   "source": [
    "\n",
    "# Set up BigQuery client using the service account key\n",
    "try:\n",
    "    client = bigquery.Client.from_service_account_json(service_account_key, project=project_id, location=\"europe-west3\")\n",
    "    print(\"BigQuery client successfully created.\")\n",
    "except Exception as e:\n",
    "    print(f\"Failed to create BigQuery client: {e}\")\n",
    "    exit()\n",
    "\n",
    "# print(\"DataFrame saved to 'output_data.csv'\")"
   ]
  },
  {
   "cell_type": "code",
   "execution_count": 16,
   "metadata": {},
   "outputs": [],
   "source": [
    "test=client.list_datasets()"
   ]
  },
  {
   "cell_type": "code",
   "execution_count": null,
   "metadata": {},
   "outputs": [],
   "source": [
    "test._items_key"
   ]
  },
  {
   "cell_type": "code",
   "execution_count": null,
   "metadata": {},
   "outputs": [],
   "source": [
    "def check_bigquery_connection():\n",
    "    \"\"\"Check the connection to BigQuery by listing datasets in the project.\"\"\"\n",
    "    try:\n",
    "        # Initialize the BigQuery client with the service account key\n",
    "        client = bigquery.Client.from_service_account_json(service_account_key)\n",
    "        print(\"BigQuery client successfully created.\")\n",
    "\n",
    "        # List datasets in the project\n",
    "        datasets = list(client.list_datasets())\n",
    "        if datasets:\n",
    "            print(\"Connection successful! The following datasets are available:\")\n",
    "            for dataset in datasets:\n",
    "                print(f\"- Dataset ID: {dataset.dataset_id}\")\n",
    "        else:\n",
    "            print(\"Connection successful, but no datasets found in the project.\")\n",
    "    except FileNotFoundError:\n",
    "        print(f\"Error: Service account key file not found at {SERVICE_ACCOUNT_KEY}.\")\n",
    "    except GoogleAuthError as auth_error:\n",
    "        print(f\"Authentication error: {auth_error}\")\n",
    "    except Exception as e:\n",
    "        print(f\"An unexpected error occurred: {e}\")\n",
    "\n",
    "# Run the connection check\n",
    "check_bigquery_connection()"
   ]
  },
  {
   "cell_type": "code",
   "execution_count": null,
   "metadata": {},
   "outputs": [],
   "source": [
    "# Query the data from the view\n",
    "view_id = \"project\"  # Replace with your view's path\n",
    "\n",
    "query = f\"\"\"\n",
    "SELECT event_name\n",
    "FROM `{view_id} LIMIT 10`\n",
    "\"\"\"\n",
    "\n",
    "# # Execute the query and save the results into a Pandas DataFrame\n",
    "try:\n",
    "    df = client.query(query).to_dataframe()\n",
    "    print(\"Data loaded successfully into DataFrame!\")\n",
    "except Exception as e:\n",
    "    print(f\"An error occurred: {e}\")\n",
    "\n",
    "# # Save the DataFrame to a CSV file (optional)\n",
    "# df.to_csv(\"output_data.csv\", index=False)"
   ]
  },
  {
   "cell_type": "code",
   "execution_count": null,
   "metadata": {},
   "outputs": [],
   "source": [
    "%%bigquery\n",
    "SELECT\n",
    "    event_name\n",
    "FROM `project`\n",
    "LIMIT 15"
   ]
  }
 ],
 "metadata": {
  "kernelspec": {
   "display_name": "Python 3 (ipykernel)",
   "language": "python",
   "name": "python3"
  },
  "language_info": {
   "codemirror_mode": {
    "name": "ipython",
    "version": 3
   },
   "file_extension": ".py",
   "mimetype": "text/x-python",
   "name": "python",
   "nbconvert_exporter": "python",
   "pygments_lexer": "ipython3",
   "version": "3.12.5"
  }
 },
 "nbformat": 4,
 "nbformat_minor": 4
}
